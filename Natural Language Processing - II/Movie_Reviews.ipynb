{
 "cells": [
  {
   "cell_type": "code",
   "execution_count": 23,
   "metadata": {},
   "outputs": [],
   "source": [
    "from nltk.corpus import movie_reviews\n",
    "from nltk.corpus import stopwords\n",
    "from nltk.corpus import wordnet\n",
    "from nltk.stem import WordNetLemmatizer\n",
    "from nltk import pos_tag\n",
    "from nltk import NaiveBayesClassifier\n",
    "import nltk\n",
    "import string\n",
    "import random"
   ]
  },
  {
   "cell_type": "code",
   "execution_count": 2,
   "metadata": {},
   "outputs": [
    {
     "data": {
      "text/plain": [
       "['neg', 'pos']"
      ]
     },
     "execution_count": 2,
     "metadata": {},
     "output_type": "execute_result"
    }
   ],
   "source": [
    "movie_reviews.categories()"
   ]
  },
  {
   "cell_type": "code",
   "execution_count": 3,
   "metadata": {},
   "outputs": [
    {
     "name": "stdout",
     "output_type": "stream",
     "text": [
      "1000\n",
      "1000\n"
     ]
    }
   ],
   "source": [
    "print(len(movie_reviews.fileids(\"neg\")))\n",
    "print(len(movie_reviews.fileids(\"pos\")))"
   ]
  },
  {
   "cell_type": "code",
   "execution_count": 4,
   "metadata": {},
   "outputs": [
    {
     "data": {
      "text/plain": [
       "2000"
      ]
     },
     "execution_count": 4,
     "metadata": {},
     "output_type": "execute_result"
    }
   ],
   "source": [
    "len(movie_reviews.fileids())"
   ]
  },
  {
   "cell_type": "code",
   "execution_count": 5,
   "metadata": {},
   "outputs": [
    {
     "data": {
      "text/plain": [
       "['capsule', ':', 'in', '2176', 'on', 'the', 'planet', ...]"
      ]
     },
     "execution_count": 5,
     "metadata": {},
     "output_type": "execute_result"
    }
   ],
   "source": [
    "movie_reviews.words(movie_reviews.fileids()[5])"
   ]
  },
  {
   "cell_type": "code",
   "execution_count": 6,
   "metadata": {},
   "outputs": [
    {
     "data": {
      "text/plain": [
       "[(['plot', ':', 'two', 'teen', 'couples', 'go', 'to', ...], 'neg'),\n",
       " (['the', 'happy', 'bastard', \"'\", 's', 'quick', 'movie', ...], 'neg'),\n",
       " (['it', 'is', 'movies', 'like', 'these', 'that', 'make', ...], 'neg'),\n",
       " (['\"', 'quest', 'for', 'camelot', '\"', 'is', 'warner', ...], 'neg'),\n",
       " (['synopsis', ':', 'a', 'mentally', 'unstable', 'man', ...], 'neg')]"
      ]
     },
     "execution_count": 6,
     "metadata": {},
     "output_type": "execute_result"
    }
   ],
   "source": [
    "documents = []\n",
    "for category in movie_reviews.categories():\n",
    "    for fileid in movie_reviews.fileids(category):\n",
    "        documents.append((movie_reviews.words(fileid),category))\n",
    "documents[0:5]"
   ]
  },
  {
   "cell_type": "code",
   "execution_count": 7,
   "metadata": {},
   "outputs": [
    {
     "data": {
      "text/plain": [
       "[(['*', '*', '*', 'the', 'following', 'review', ...], 'neg'),\n",
       " (['the', 'caveman', \"'\", 's', 'valentine', 'starring', ...], 'pos'),\n",
       " (['seen', 'august', '8', ',', '1998', 'at', '6', 'p', ...], 'pos'),\n",
       " (['matthew', 'broderick', 'and', 'high', 'school', ...], 'pos'),\n",
       " (['a', 'big', 'surprise', 'to', 'me', '.', 'the', ...], 'pos')]"
      ]
     },
     "execution_count": 7,
     "metadata": {},
     "output_type": "execute_result"
    }
   ],
   "source": [
    "random.shuffle(documents)\n",
    "documents[0:5]"
   ]
  },
  {
   "cell_type": "code",
   "execution_count": 8,
   "metadata": {},
   "outputs": [],
   "source": [
    "def get_simple_pos(tag):\n",
    "    if tag.startswith(\"J\"):\n",
    "        return wordnet.ADJ\n",
    "    elif tag.startswith(\"V\"):\n",
    "        return wordnet.VERB\n",
    "    elif tag.startswith(\"N\"):\n",
    "        return wordnet.NOUN\n",
    "    elif tag.startswith(\"R\"):\n",
    "        return wordnet.ADV\n",
    "    else:\n",
    "        return wordnet.NOUN"
   ]
  },
  {
   "cell_type": "code",
   "execution_count": 9,
   "metadata": {},
   "outputs": [
    {
     "name": "stdout",
     "output_type": "stream",
     "text": [
      "{'other', '\"', ']', 'these', 'him', '[', 'over', 'by', 'nor', 've', '<', 'but', ':', 'above', 'mustn', 'up', 'wouldn', ')', '_', 'before', \"shouldn't\", \"wouldn't\", 'very', 'shan', 'at', 'against', 'because', 'own', 'i', 'will', \"couldn't\", 'doing', 'below', '}', \"haven't\", 'yourself', 'she', '=', 'our', 'did', '|', 'aren', 'which', 'y', 'to', 'or', 'so', 'some', '^', 'during', 'with', 'not', 'they', 'haven', '*', '\\\\', 'themselves', 'm', 'yourselves', \"mustn't\", '/', 'this', 'same', '#', 'your', 'were', 'until', 'ma', 'through', 'between', 'down', 'what', \"should've\", \"doesn't\", 'was', '+', 'the', 'any', 'that', 'now', 'no', 'a', 'shouldn', 'from', \"didn't\", 'are', \"you'll\", 'only', 'we', 'those', 'and', 'under', 'here', 'don', \"don't\", \"shan't\", 'further', 'am', 'more', 'd', \"needn't\", '.', 'ain', 'than', 'on', ';', 'its', 'theirs', 'both', 'it', 'do', \"isn't\", ',', 'ours', 'there', 'having', 'doesn', 'himself', 'such', 'too', 's', 'isn', 'few', 'he', \"it's\", 'again', 't', 'for', 'if', 'mightn', 'hers', 'has', 'being', \"aren't\", 'once', 'whom', 'then', 'of', 'how', 'while', 'o', 'wasn', '?', 'you', 'be', '`', 'myself', 'as', '-', 'yours', '!', '&', 'an', 'does', 'off', 'their', 'who', \"you'd\", \"you've\", 'into', \"hasn't\", '~', 'where', \"she's\", 'hadn', 'needn', 'won', \"'\", '{', 'couldn', 'out', 'itself', 'all', 'didn', 'had', 'most', 'my', 'have', 'why', \"hadn't\", 'herself', 'weren', 'been', 'in', \"won't\", '$', \"that'll\", '>', 'when', \"mightn't\", 'll', 'hasn', \"wasn't\", 're', 'them', '@', 'is', 'his', '(', 'should', 'just', 'her', '%', 'after', 'can', 'me', 'about', \"weren't\", 'ourselves', \"you're\", 'each'}\n",
      "['!', '\"', '#', '$', '%', '&', \"'\", '(', ')', '*', '+', ',', '-', '.', '/', ':', ';', '<', '=', '>', '?', '@', '[', '\\\\', ']', '^', '_', '`', '{', '|', '}', '~']\n"
     ]
    }
   ],
   "source": [
    "stops = set(stopwords.words(\"english\"))\n",
    "punctuations = list(string.punctuation)\n",
    "stops.update(punctuations)\n",
    "print(stops)\n",
    "print(punctuations)"
   ]
  },
  {
   "cell_type": "code",
   "execution_count": 10,
   "metadata": {},
   "outputs": [],
   "source": [
    "lemmatizer = WordNetLemmatizer()"
   ]
  },
  {
   "cell_type": "code",
   "execution_count": 11,
   "metadata": {},
   "outputs": [],
   "source": [
    "def clean_review(words):\n",
    "    output_words = []\n",
    "    for w in words:\n",
    "        if w.lower() not in stops:\n",
    "            pos = pos_tag([w])\n",
    "            clean_word = lemmatizer.lemmatize(w, pos = get_simple_pos(pos[0][1]))\n",
    "            output_words.append(clean_word.lower())\n",
    "    return output_words"
   ]
  },
  {
   "cell_type": "code",
   "execution_count": 12,
   "metadata": {},
   "outputs": [],
   "source": [
    "documents = [(clean_review(document),category) for document, category in documents]"
   ]
  },
  {
   "cell_type": "code",
   "execution_count": 13,
   "metadata": {
    "scrolled": true
   },
   "outputs": [
    {
     "name": "stdout",
     "output_type": "stream",
     "text": [
      "(['follow', 'review', 'contains', 'spoiler', 'way', '---', 'rapist', 'matt', 'frewer', 'responds', 'supergirl', 'helen', 'slater', 'query', 'attack', 'example', 'mind', 'numbingly', 'bad', 'dialogue', 'supergirl', 'admit', 'love', 'superman', 'iii', 'know', 'hat', 'amongst', 'superman', 'faithful', 'dismiss', 'nothing', 'vehicle', 'richard', 'pryor', 'still', 'think', 'worthy', 'addition', 'man', 'steel', 'franchise', 'supergirl', 'spin', 'film', 'sort', 'series', 'producer', 'alexander', 'ilya', 'salkind', 'even', 'rival', 'superman', 'iii', 'term', 'quality', 'let', 'alone', 'superman', 'superman', 'ii', 'supergirl', 'lose', 'opening', 'scene', 'go', 'steadily', 'downhill', 'rest', 'two', 'hour', 'plus', 'run', 'time', 'film', 'begin', 'see', 'resident', 'argo', 'city', 'commune', 'like', 'place', 'consist', 'refugee', 'krypton', 'resides', 'inner', 'space', 'go', 'daily', 'life', 'ok', 'exile', 'krypton', 'blew', 'right', 'living', 'krypton', 'explode', 'get', 'inner', 'space', 'whole', 'inner', 'space', 'notion', 'never', 'explain', 'particularly', 'term', 'people', 'get', 'information', 'outside', 'world', 'know', 'superman', 'go', 'know', 'take', 'name', 'clark', 'kent', 'work', 'daily', 'planet', 'kind', 'thing', 'frustrate', 'hell', 'argo', 'city', 'kept', 'run', 'power', 'source', 'call', 'omegahedron', 'one', 'day', 'founder', 'argo', 'city', 'zaltar', 'peter', 'toole', 'give', 'omegahedron', 'superman', 'cousin', 'kara', 'helen', 'slater', 'use', 'inspiration', 'art', 'kara', 'us', 'create', 'bug', 'like', 'thing', 'immediately', 'crash', 'layer', 'whatever', 'protects', 'city', 'chaos', 'omegahedron', 'sail', 'opening', 'doom', 'argonians', 'death', 'three', 'day', 'time', 'something', 'kara', 'climb', 'pod', 'zaltar', 'design', 'interdimensional', 'travel', 'chase', 'omegahedron', 'save', 'world', 'power', 'source', 'travel', 'directly', 'earth', 'land', 'bowl', 'dip', 'belonging', 'minor', 'league', 'witch', 'name', 'selena', 'faye', 'dunaway', 'immediately', 'dip', 'ruin', 'announce', 'desire', 'rule', 'world', 'sometimes', 'warlock', 'boyfriend', 'nigel', 'peter', 'cook', 'selena', 'somehow', 'know', 'ball', 'sky', 'help', 'evil', 'plan', 'set', 'achieve', 'world', 'domination', 'selena', 'unaware', 'course', 'kara', 'also', 'arrive', 'earth', 'arrive', 'supergirl', 'complete', 'appropriate', 'costume', 'supergirl', 'emerges', 'bottom', 'lake', 'arrives', 'ok', 'huh', 'omegahedron', 'fall', 'sky', 'supergirl', 'shoot', 'bottom', 'lake', 'attention', 'movie', 'explain', 'sorry', 'suspend', 'disbelief', 'much', 'buy', 'nonsense', 'movie', 'want', 'know', 'need', 'secret', 'identity', 'supergirl', 'basically', 'will', 'school', 'girl', 'outfit', 'complete', 'different', 'hairstyle', 'pick', 'alias', 'linda', 'lee', 'enrolls', 'school', 'give', 'dorm', 'assignment', 'happens', 'roommate', 'lois', 'lane', 'sister', 'lucy', 'ok', 'coincidence', 'one', 'thing', 'folk', 'get', 'really', 'contrive', 'follow', 'generic', 'girl', 'school', 'hijinks', 'complete', 'evil', 'bully', 'girl', 'mean', 'reason', 'course', 'even', 'shower', 'scene', 'best', 'moment', 'though', 'come', 'supergirl', 'decides', 'put', 'bra', 'school', 'uniform', 'start', 'stuff', 'sock', 'point', 'rapidly', 'wonder', 'bother', 'nonsense', 'credit', 'give', 'film', 'however', 'one', 'lengthy', 'elaborate', 'sequence', 'feature', 'evil', 'bulldozer', 'destroy', 'small', 'town', 'search', 'prey', 'well', 'do', 'also', 'commendable', 'see', 'gender', 'reverse', 'film', 'whereas', 'woman', 'power', 'men', 'merely', 'object', 'tool', 'hart', 'bochner', 'die', 'hard', 'particularly', 'fun', 'kara', 'love', 'interest', 'lovesick', 'landscaper', 'spell', 'cast', 'selena', 'although', 'unfortunately', 'part', 'one', 'film', 'ridiculous', 'moment', 'rescue', 'tapped', 'menace', 'bumper', 'car', 'numerous', 'little', 'thing', 'bother', 'fly', 'effect', 'never', 'convincing', 'moment', 'obvious', 'helen', 'slater', 'hooked', 'wire', 'instead', 'look', 'like', 'fly', 'filmmaker', 'want', 'graceful', 'pose', 'lot', 'ballet', 'type', 'maneuver', 'also', 'first', 'two', 'human', 'meet', 'supergirl', 'arrives', 'earth', 'pair', 'truck', 'driver', 'rapist', 'immediately', 'attack', 'meet', 'wacky', 'demise', 'also', 'rampant', 'product', 'placement', 'film', 'notably', 'popeye', 'tylenol', 'w', 'root', 'beer', 'latter', 'actually', 'put', 'logo', 'shirt', 'one', 'rapist', 'finally', 'one', 'word', 'monster', 'faye', 'dunaway', 'peter', 'toole', 'ham', 'unmercifully', 'however', 'toole', 'overacts', 'entertain', 'dunaway', 'annoy', 'character', 'actually', 'say', 'line', 'seize', 'one', 'point', 'dunaway', 'henchman', 'played', 'peter', 'cook', 'brenda', 'vaccaro', 'fare', 'much', 'well', 'vaccaro', 'come', 'best', 'equivalent', 'ned', 'beatty', 'otis', 'character', 'first', 'two', 'superman', 'movie', 'helen', 'slater', 'effectively', 'portrays', 'supergirl', 'innocent', 'naive', 'character', 'write', 'able', 'gaze', 'flower', 'bunny', 'right', 'amount', 'genuine', 'wonder', 'make', 'believable', 'believability', 'aside', 'though', 'still', 'annoy', 'despite', 'negativity', 'alone', 'supergirl', 'well', 'like', 'well', 'respect', 'movie', 'many', 'circle', 'leave', 'good', 'people', 'anchor', 'bay', 'entertainment', 'actually', 'make', 'people', 'interested', 'excite', 'release', 'dvd', 'release', 'two', 'separate', 'edition', 'film', 'dvd', 'delight', 'many', 'people', 'include', 'yet', 'still', 'unclear', 'since', 'movie', 'awful', 'first', 'widely', 'available', 'dvd', 'release', 'feature', 'international', 'version', 'film', 'run', '10', 'minute', 'longer', 'print', 'ran', 'u', 'theater', 'movie', 'present', 'original', 'theatrical', 'aspect', 'ratio', '2', '35', '1', 'enhance', '16x9', 'television', 'remastered', 'full', 'thx', 'glory', 'extra', 'disc', 'include', 'full', 'length', 'audio', 'commentary', 'track', 'director', 'jeannot', 'szwarc', 'special', 'project', 'consultant', 'scott', 'michael', 'bosco', 'excellent', '50', 'minute', 'documentary', '1984', 'call', 'supergirl', 'make', 'feature', 'dig', 'workout', 'montage', '5', 'trailer', '3', 'tv', 'spot', 'talent', 'bios', 'depth', 'storyboards', 'accompany', 'score', 'movie', 'assort', 'still', 'gallery', 'transfer', 'international', 'version', 'incredible', 'think', 'watch', 'new', 'release', 'image', 'sharp', 'color', 'jump', 'screen', 'picture', 'free', 'scratch', 'artifact', 'special', 'effect', 'sequence', 'show', 'wear', 'time', 'much', 'do', 'unless', 'obsessive', 'like', 'george', 'lucas', 'new', 'thx', 'approve', 'audio', 'loud', 'clear', 'right', 'place', 'however', 'hearing', 'absurd', 'dialogue', 'mediocre', 'jerry', 'goldsmith', 'score', 'completely', 'unrelated', 'john', 'williams', 'classic', 'superman', 'theme', 'sound', 'well', 'suit', 'cannon', 'film', 'golan', 'globus', 'production', 'commentary', 'track', 'feature', 'director', 'szwarc', 'project', 'consultant', 'bosco', 'step', 'right', 'direction', 'evolution', 'audio', 'commentary', 'bosco', 'seem', 'expert', 'thing', 'supergirl', 'szwarc', 'ensure', 'dead', 'air', 'track', 'bosco', 'probe', 'szwarc', 'information', 'virtually', 'everyone', 'everything', 'come', 'onscreen', 'learn', 'great', 'deal', 'film', 'result', 'participation', 'although', 'time', 'tell', 'bosco', 'look', 'specific', 'response', 'szwarc', 'surprised', 'get', 'response', 'learn', 'fascinate', 'tidbit', 'track', 'notably', 'almost', 'appearance', 'film', 'christopher', 'reeve', 'great', 'detail', 'give', 'superman', 'propose', 'role', 'original', 'script', 'reeve', 'wisely', 'drop', 'stand', 'superman', 'write', 'early', 'film', 'hear', 'radio', 'broadcast', 'mention', 'billion', 'light', 'year', 'away', 'sort', 'peace', 'mission', 'sake', 'brevity', 'even', 'get', 'one', 'szwarc', 'also', 'reveals', 'conscious', 'decision', 'salkinds', 'everyone', 'else', 'agree', 'supergirl', 'need', 'stand', 'replace', 'science', 'fiction', 'superman', 'film', 'cutsy', 'whimsical', 'fantasy', 'nonsense', 'bosco', 'also', 'point', 'scene', 'american', 'release', 'come', 'along', 'claim', 'original', 'release', 'would', 'hit', 'box', 'office', 'sake', 'brevity', 'even', 'get', 'one', 'anchor', 'bay', 'also', 'release', 'limited', 'edition', '50', '000', 'copy', 'press', 'two', 'disc', 'set', 'disc', 'one', 'contains', 'everything', 'mention', 'regular', 'release', 'disc', 'two', 'feature', 'never', 'see', 'director', 'cut', 'film', 'run', '138', 'minute', 'long', 'addition', 'mainly', 'consist', 'scene', 'extension', 'add', 'much', 'note', 'except', 'moment', 'lengthen', 'peter', 'toole', 'screen', 'time', 'particularly', 'latter', 'appearance', 'print', 'rough', 'spot', 'sound', 'mono', 'fan', 'film', 'care', 'one', 'question', 'though', 'director', 'commentary', 'director', 'cut', 'film', 'never', 'see', 'supergirl', 'sat', 'watch', 'dvd', 'nine', 'release', 'theater', 'even', 'smart', 'enough', 'inform', 'parent', 'take', 'see', 'popped', 'dvd', 'player', 'sat', 'easy', 'chair', 'idea', 'expect', 'knew', 'film', 'beloved', 'never', 'interest', 'willing', 'give', 'shot', 'impressive', 'amount', 'work', 'put', 'disc', 'disc', 'begin', 'spin', 'rather', 'impressed', 'opening', 'sequence', 'make', 'sit', 'wonder', 'assumption', 'time', 'could', 'wrong', 'come', 'find', 'however', 'chase', 'digital', 'stereo', 'logo', 'slunk', 'back', 'seat', 'nightmare', 'start', 'end', 'film', 'supergirl', 'fly', 'back', 'lake', 'omegahedron', 'fly', 'back', 'argo', 'city', 'ugh', 'give', 'surprised', 'even', 'make', 'end', 'film', 'twice', 'three', 'time', 'review', 'disc', 'supergirl', 'definitely', 'terrific', 'dvd', 'package', 'lousy', 'movie', 'pg'], 'neg')\n"
     ]
    }
   ],
   "source": [
    "print(documents[0])"
   ]
  },
  {
   "cell_type": "code",
   "execution_count": 14,
   "metadata": {},
   "outputs": [],
   "source": [
    "training_documents = documents[0:1500]\n",
    "testing_documents = documents[1500:]"
   ]
  },
  {
   "cell_type": "code",
   "execution_count": 16,
   "metadata": {},
   "outputs": [],
   "source": [
    "all_words = []\n",
    "for doc in training_documents:\n",
    "    all_words += doc[0]"
   ]
  },
  {
   "cell_type": "code",
   "execution_count": 17,
   "metadata": {},
   "outputs": [],
   "source": [
    "freq = nltk.FreqDist(all_words)\n",
    "common = freq.most_common(3000)\n",
    "features = [i[0] for i in common]"
   ]
  },
  {
   "cell_type": "code",
   "execution_count": 18,
   "metadata": {
    "scrolled": true
   },
   "outputs": [
    {
     "name": "stdout",
     "output_type": "stream",
     "text": [
      "['film', 'movie', 'one', 'make', 'like', 'character', 'get', 'see', 'go', 'time', 'well', 'scene', 'even', 'good', 'story', 'take', 'much', 'would', 'come', 'also', 'life', 'bad', 'give', 'two', 'look', 'know', '--', 'way', 'end', 'seem', 'first', 'work', 'year', 'thing', 'really', 'plot', 'say', 'play', 'little', 'show', 'man', 'people', 'star', 'could', 'try', 'never', 'director', 'love', 'great', 'performance', 'best', 'new', 'action', 'big', 'actor', 'find', 'want', 'many', 'watch', 'act', 'u', 'role', 'think', 'another', 'still', 'something', 'back', 'world', 'audience', 'turn', 'day', 'old', 'use', 'comedy', 'every', 'set', 'however', 'guy', 'enough', 'real', 'around', 'though', 'part', 'begin', 'feel', 'cast', 'point', 'write', 'funny', 'run', 'interest', 'last', 'may', 'script', 'young', 'woman', 'right', 'fact', 'name', 'lot', 'actually', 'nothing', 'long', 'place', 'effect', 'minute', 'screen', 'friend', 'ever', 'played', 'almost', 'although', 'moment', 'since', 'john', 'line', 'become', 'call', 'start', 'tell', 'problem', 'high', 'without', 'help', 'kill', 'girl', 'lead', 'picture', 'family', 'original', 'sequence', 'three', 'least', 'need', 'quite', 'away', 'laugh', 'put', 'rather', 'might', 'job', 'include', 'far', 'course', 'bit', 'american', 'child', 'kind', 'hard', 'anything', 'wife', 'fall', 'keep', 'follow', 'always', 'alien', 'yet', 'fun', 'lose', 'hour', 'home', 'feature', 'instead', 'must', 'special', 'reason', 'night', 'attempt', 'head', 'move', 'hand', 'black', 'everything', 'sense', 'half', 'mind', 'face', 'hollywood', 'probably', 'fight', 'pretty', 'along', 'kid', 'let', 'men', 'human', 'series', 'money', 'direct', 'becomes', 'horror', 'believe', 'sure', 'idea', 'war', 'involve', 'force', 'dialogue', 'boy', 'together', 'father', 'question', 'shot', 'death', 'save', 'talk', 'whole', 'less', 'city', 'everyone', 'do', 'sex', 'relationship', 'release', 'music', 'appear', 'case', 'second', 'couple', 'mother', 'small', 'whose', 'perhaps', 'evil', '10', 'next', 'rest', 'word', 'create', 'meet', '2', 'especially', 'brother', 'expect', 'mr', 'joke', 'eye', 'writer', 'sound', 'base', 'happen', 'james', 'thought', 'review', 'care', 'comic', 'mean', 'add', 'completely', 'simply', 'different', 'live', 'change', 'humor', 'book', 'house', 'michael', 'top', 'dead', 'anyone', 'late', 'lack', 'hit', 'group', 'school', 'wrong', 'entire', 'several', 'david', 'someone', 'left', 'true', 'matter', 'stop', 'side', 'else', 'found', 'element', 'wonder', 'suppose', 'entertain', 'leave', 'support', 'soon', 'either', 'power', 'fan', 'town', 'full', 'car', 'present', 'open', 'tv', 'main', 'game', 'final', 'hero', 'viewer', 'die', 'style', 'unfortunately', 'return', 'son', 'later', 'enjoy', 'stand', 'perfect', 'behind', 'camera', 'title', 'person', 'often', 'classic', 'provide', 'video', 'robert', 'murder', 'strong', 'finally', 'deal', 'nice', 'credit', 'thriller', 'order', 'certainly', 'daughter', 'team', 'despite', 'scream', 'maybe', 'dog', 'theater', 'miss', 'result', 'past', 'view', 'piece', 'talent', 'summer', 'killer', 'joe', 'production', 'version', 'room', 'sort', 'note', 'event', 'short', 'worth', 'heart', 'fine', 'bring', 'beautiful', 'able', 'white', 'dream', 'age', 'break', 'violence', 'body', 'voice', 'jack', 'self', 'guess', 'kevin', 'example', 'art', 'hope', 'consider', 'disney', 'earth', 'early', 'cut', 'drama', 'space', 'screenplay', 'upon', 'level', 'wait', 'close', 'situation', 'deep', 'ask', 'figure', 'offer', 'novel', 'number', 'major', 'light', 'nearly', 'opening', 'four', 'experience', 'waste', 'pace', 'cop', 'direction', 'already', 'tom', 'god', 'exactly', 'ship', 'king', 'computer', 'form', 'dark', 'obvious', 'others', 'lee', 'surprise', 'rise', 'plan', 'type', 'easy', 'realize', 'genre', 'member', 'five', 'charm', 'chase', 'state', 'touch', 'fill', 'flick', 'hold', 'sometimes', 'learn', 'throughout', 'simple', 'drug', 'planet', 'fiction', 'pull', 'quickly', 'truly', 'battle', 'jackie', 'filmmaker', 'romantic', 'sequel', 'oscar', 'york', 'walk', 'saw', 'song', 'happens', 'manages', 'peter', 'boring', 'husband', 'hell', 'remember', 'twist', 'possible', '1', 'mention', 'sit', 'carry', 'paul', 'tale', 'material', 'extremely', 'crime', 'villain', 'career', 'rock', 'eventually', 'win', 'yes', 'smith', 'living', 'project', 'score', 'chance', 'wild', 'gun', 'focus', 'de', 'emotional', 'future', 'attention', 'secret', 'happy', 'success', 'escape', 'stay', 'alone', 'science', 'parent', 'police', 'mostly', 'none', 'amaze', 'co', 'television', 'chris', 'van', 'particularly', 'girlfriend', 'water', 'pay', 'theme', 'steal', 'detail', 'understand', 'large', 'single', 'decide', 'shoot', 'within', 'agent', 'ben', 'business', 'actress', 'premise', 'mission', 'reality', 'stupid', 'serious', 'quality', 'cause', 'flaw', 'image', 'middle', 'among', 'cover', 'difficult', 'mark', 'wonderful', 'vampire', 'complete', 'robin', 'obviously', 'crew', 'million', 'oh', 'history', 'message', 'low', 'aspect', 'except', 'motion', 'usually', 'effective', 'told', 'slow', 'romance', 'whether', 'fire', 'william', 'explain', 'office', 'impressive', 'brings', 'drive', 'read', 'lie', 'jones', 'subject', 'entertainment', 'across', 'effort', 'party', 'local', 'dr', 'producer', 'doubt', 'george', 'mystery', 'basically', 'smart', 'poor', 'country', 'control', 'law', 'wish', 'sister', 'screenwriter', 'murphy', 'somehow', 'stuff', 'blood', 'america', 'company', 'studio', 'fast', 'annoy', 'clear', 'apparently', '4', 'approach', 'straight', '3', 'easily', 'produce', 'discover', 'cool', 'street', 'hilarious', 'answer', 'trouble', 'clever', 'throw', 'attack', 'fly', 'familiar', 'rat', 'dramatic', 'fail', 'appeal', 'surprisingly', 'rich', 'date', 'teen', 'critic', 'general', 'carter', 'us', 'cinema', 'successful', 'master', 'important', 'budget', 'due', 'powerful', 'harry', 'somewhat', 'suspense', 'prison', 'williams', 'fear', 'ago', 'ability', 'near', 'red', 'recent', 'adult', 'excellent', 'toy', 'favorite', 'excite', 'box', 'class', 'stone', 'animate', 'ryan', 'confuse', 'former', 'bill', 'usual', 'presence', 'intelligent', 'popular', 'share', 'ex', 'blue', 'similar', 'sexual', 'deliver', 'visual', 'emotion', 'strange', 'jim', 'speak', 'nature', 'decides', 'personal', 'adventure', 'scary', 'giant', 'land', 'suspect', 'choice', 'sweet', 'cross', 'absolutely', 'wear', 'brilliant', 'third', 'b', 'manage', 'allow', 'tone', 'certain', 'free', 'towards', 'leaf', 'amount', 'beyond', 'likely', 'reveal', 'anyway', 'week', 'bunch', 'solid', 'musical', 'scott', 'student', 'catch', 'capture', 'previous', 'hate', 'martin', 'perfectly', 'rule', 'appearance', 'thrill', 'treat', 'r', 'ape', 'search', 'mess', 'enjoyable', 'predictable', 'chan', 'truman', 'richard', 'rating', 'seriously', 'non', 'felt', 'track', 'potential', 'prove', 'baby', 'continue', 'soundtrack', 'trailer', 'step', 'impossible', 'handle', 'wedding', 'l', 'issue', 'bond', 'tim', 'inside', 'la', 'definitely', 'bruce', 'dance', 'overall', 'drop', 'sam', 'huge', 'cliche', 'grow', 'cameron', 'spend', 'mar', 'victim', 'batman', 'travel', 'pick', 'monster', 'depth', 'player', 'brought', 'dumb', 'ten', 'strike', 'talented', 'join', 'neither', 'haunt', 'allen', 'merely', 'air', 'purpose', 'fails', 'female', '90', 'woody', 'steve', 'society', 'cold', 'lover', 'simon', 'trek', 'hunt', 'term', 'shock', 'award', 'actual', 'married', 'raise', 'decent', 'doctor', 'require', 'heard', 'fashion', '5', 'color', 'frank', 'grace', 'unlike', 'hank', 'sell', 'political', 'west', 'eddie', 'pop', 'truth', 'gag', 'constantly', 'ultimately', 'background', 'today', 'willis', 'standard', 'e', 'rescue', 'modern', 'opportunity', 'mike', 'trip', 'key', 'kiss', 'bob', 'immediately', 'complex', 'particular', 'silly', 'club', 'compare', 'month', 'totally', 'cameo', 'hill', 'design', 'respect', 'imagine', 'government', 'tension', 'otherwise', 'store', 'heavy', 'edit', 'reach', 'detective', 'train', 'slightly', '8', 'violent', 'serve', 'spirit', 'mouth', 'memorable', 'cinematography', 'brief', 'door', 'sign', 'basic', 'ride', 'struggle', 'animal', 'arm', 'steven', 'bug', 'park', 'college', 'sight', 'cannot', 'amuse', 'terrible', 'ground', 'six', 'animation', 'forget', 'typical', 'introduce', 'dollar', 'fi', 'hop', 'suit', 'personality', 'private', 'various', 'cheap', 'band', 'sci', 'english', 'carrey', 'grant', 'succeed', 'promise', 'army', 'atmosphere', 'front', 'pair', 'foot', 'quick', 'dull', 'episode', 'machine', 'entirely', 'kick', 'wood', 'aside', 'remain', 'admit', 'witch', 'costume', 'male', 'president', 'race', 'list', 'conclusion', 'fairly', 'creature', 'island', 'buddy', 'impact', 'tarzan', 'fantasy', 'notice', 'recommend', 'adam', 'british', 'engage', 'hang', 'roll', 'earlier', 'dress', 'plenty', 'highly', 'scientist', 'chemistry', 'x', 'common', 'value', 'sean', 'ii', 'minor', 'frame', 'leader', 'partner', 'spent', 'twenty', 'hole', 'convincing', 'believable', 'awful', 'hear', 'energy', 'double', 'recently', 'development', 'center', 'road', 'ghost', 'camp', 'whatever', 'medium', 'artist', 'memory', 'officer', 'hong', 'angel', 'bore', 'terrific', 'building', 'subtle', 'system', 'sing', 'soul', 'meanwhile', 'rush', 'disaster', 'titanic', 'menace', 'jerry', 'decision', 'jackson', 'remains', 'suffer', 'clearly', 'beauty', 'delivers', 'brain', 'flat', 'intelligence', 'ridiculous', 'loud', 'knew', '1998', 'encounter', 'exception', 'test', 'criminal', 'singer', 'edge', 'tarantino', 'root', 'interested', 'cinematic', 'survive', 'teacher', 'period', 'j', 'inspire', 'generate', 'owner', 'green', 'concept', 'realistic', 'somewhere', 'seven', 'build', 'eat', 'possibly', 'protagonist', 'tough', 'fair', 'please', 'intrigue', 'desire', 'prof', 'climax', 'bos', 'vega', 'jean', 'mary', 'draw', 'outside', 'suddenly', 'avoid', 'hardly', 'storyline', 'wall', 'culture', 'phone', 'nick', 'target', 'contains', 'buy', 'innocent', 'fascinate', 'thus', 'ready', 'soldier', 'average', 'seemingly', 'unique', 'thanks', 'learns', 'hire', 'century', 'asks', 'gore', 'incredibly', 'speed', 'seat', 'fit', 'intend', 'manner', 'apart', 'weak', 'onto', 'horse', 'french', 'frighten', 'lawyer', 'rob', 'opinion', 'thin', 'damn', 'smile', 'indeed', 'subplot', 'gang', 'hot', 'normal', 'product', 'public', '1997', 'generation', 'godzilla', 'disappoint', 'pulp', 'anderson', 'occasionally', 'okay', 'famous', 'flashback', 'caught', 'thrown', 'apartment', 'brown', 'crash', 'longer', 'spot', 'individual', 'mysterious', 'stephen', 'accent', 'language', 'slowly', 'moral', 'stage', 'sent', 'etc', 'appreciate', '000', 'device', 'conflict', 'alan', 'pain', 'specie', 'stick', 'blade', 'plane', 'mix', 'stunt', 'guard', 'liner', 'deserves', 'length', 'surprised', 'worker', 'sad', 'fat', 'journey', 'price', 'billy', 'visit', 'social', 'surprising', 'disturb', 'station', 'barely', '1999', 'fellow', 'rate', 'kong', 'task', 'affair', 'edward', 'lame', 'equally', 'odd', 'mulan', 'difference', 'convince', 'dy', 'alive', 'superior', 'food', 'rent', 'count', 'terrorist', 'danny', 'drag', 'meaning', 'lady', 'henry', 'cute', 'addition', 'model', 'military', 'study', 'roger', 'witness', 'determine', 'fbi', 'charge', 'combine', 'skill', 'central', 'wise', 'bar', 'deserve', 'teenager', 'latter', 'christopher', 'legend', 'epic', 'jason', 'technical', 'cartoon', 'contact', 'chinese', 'attitude', 'travolta', 'developed', 'julie', 'patrick', 'shakespeare', 'jump', 'develop', 'hint', 'wind', 'match', 'cry', 'jeff', 'devil', 'satire', 'trooper', 'decade', 'cage', 'witty', 'jennifer', 'boyfriend', 'adaptation', 'queen', 'news', 'beat', 'weapon', 'kate', 'wit', 'c', 'jr', '7', 'comparison', 'insult', 'spice', 'destroy', 'incredible', 'graphic', 'stun', 'crazy', 'apparent', 'process', 'record', '80', 'gangster', 'mistake', 'hundred', 'instance', 'check', 'julia', 'rarely', 'marriage', 'kept', 'folk', 'matthew', 'horrible', 'fault', 'nicely', 'display', 'as', 'willing', 'discovers', 'field', 'receive', 'boat', 'blame', 'exist', 'contain', 'imagination', 'matrix', 'fresh', 'bat', 'literally', '20', 'vision', 'nowhere', 'max', 'command', 'creates', 'academy', 'enter', 'involves', 'cash', 'toward', 'industry', 'accident', 'spends', 'slave', 'forward', 'patient', 'fully', 'desperate', 'hair', 'brook', 'arnold', 'debut', 'spielberg', 'footage', 'creepy', 'remake', 'range', 'ford', 'formula', 'russell', 'reference', 'send', 'sadly', 'weird', 'expectation', 'martial', 'worthy', 'ruin', 'appropriate', 'fare', 'pas', 'revenge', 'wide', 'refuse', 'gibson', 'surround', 'season', 'masterpiece', 'sleep', 'finish', 'window', 'perform', 'pleasure', 'crowd', 'generally', 'gay', 'numerous', 'genius', 'necessary', 'board', 'shallow', 'remind', 'bank', 'bear', 'tune', 'starship', 'allows', 'mile', 'progress', 'demand', 'princess', 'douglas', 'bizarre', 'dude', 'matt', 'pathetic', 'dad', '13', 'speech', 'filmmaking', 'rain', 'embarrass', 'drawn', 'magic', 'warrior', 'explosion', 'blow', 'born', 'hospital', 'rare', 'crap', 'pure', 'woo', 'mood', 'shame', 'angry', 'washington', 'spectacular', 'prisoner', 'slasher', 'twice', 'post', 'suggest', 'natural', 'trust', 'tie', 'poorly', 'forever', 'challenge', 'fox', 'superb', 'zero', 'affleck', 'teenage', 'segment', 'cruise', 'vehicle', 'genuine', 'extra', 'virtually', 'total', 'relief', 'portrayal', 'meant', 'fate', 'tire', 'daniel', 'winner', 'punch', 'satisfy', 'occur', 'fake', 'patch', 'burton', 'achieve', 'unless', 'spawn', 'taste', 'describe', 'hidden', 'baldwin', 'explore', 'flash', 'tear', 'humorous', 'nobody', 'accept', 'suck', 'charles', 'scale', 'mad', 'al', 'hurt', 'sexy', 'driver', 'claim', 'pg', 'recognize', 'opposite', 'unfunny', 'tommy', 'grand', 'scheme', 'strength', 'ice', 'wonderfully', 'gain', 'charlie', 'ed', 'era', 'professor', 'characterization', 'finale', 'reef', 'thomas', 'court', 'scare', 'austin', 'rip', 'stuart', 'identity', 'documentary', 'lucas', 'press', 'position', 'captain', 'reading', 'physical', 'dennis', 'listen', 'trick', 'bright', 'gary', 'alex', 'monkey', 'brian', 'g', 'content', 'ad', 'humour', 'crack', 'nomination', 'snake', 'performer', 'derek', 'humanity', 'campbell', 'johnny', 'fantastic', 'investigate', 'dimensional', 'heaven', 'attractive', 'pilot', '70', 'angle', 'blair', 'extreme', 'bland', 'impression', 'lynch', 'rival', 'ok', 'bottom', 'threaten', 'russian', 'visuals', 'comedic', 'bone', 'naked', 'visually', 'mel', 'comment', 'gold', 'commit', 'parody', 'hotel', 'annie', 'stuck', 'goal', 'wave', 'conversation', 'stock', 'craft', 'excuse', 'seagal', 'silent', 'push', 'anti', 'joan', 'jay', 'wayne', 'hat', 'information', 'bother', 'dvd', 'limited', 'constant', 'represent', 'shadow', 'seek', 'carpenter', 'plain', 'hopkins', 'knock', 'babe', 'broken', 'fish', 'gift', 'sympathetic', 'hall', 'dozen', 'desert', 'reaction', 'utterly', 'bed', 'trap', 'robot', 'jane', 'gross', 'helen', '50', 'failure', 'bomb', 'technology', 'sheer', 'accomplish', 'supposedly', 'clich', 'marry', 'damme', 'neighbor', '30', 'maker', 'nasty', 'security', 'elizabeth', 'honest', 'file', 'concern', 'sport', 'current', 'boogie', 'contrive', 'agree', 'ray', 'enemy', 'forgotten', 'clean', 'jedi', 'suicide', 'tony', 'professional', 'chosen', 'beast', 'routine', 'verhoeven', 'dangerous', 'welcome', 'table', 'stretch', 'myers', 'quest', '9', 'sandler', 'nightmare', 'vincent', 'beach', 'assume', 'meeting', 'loses', 'aim', 'disappointment', 'danger', 'goofy', 'feeling', 'grows', 'buck', 'taylor', 'christmas', 'warm', 'judge', 'jimmy', 'bus', 'path', 'teach', 'con', 'evidence', 'regular', 'surface', 'lord', 'abandon', 'stallone', 'service', 'sea', 'instinct', 'movement', 'stereotype', 'risk', 'pointless', 'conspiracy', 'substance', 'previously', 'aid', 'intense', 'anne', 'jungle', 'm', 'hunter', 'nbsp', 'ball', 'sharp', 'noir', 'portrayed', 'scar', 'built', 'super', 'ups', 'regard', 'stumble', 'ultimate', 'anthony', 'virus', 'faith', 'emotionally', 'cusack', 'bridge', 'realizes', 'narrative', '15', 'settle', 'floor', 'connection', 'offensive', 'card', 'therefore', 'tragedy', 'distract', 'core', 'burn', 'astronaut', 'opera', 'cult', 'bound', 'contrast', 'plus', 'responsible', 'urban', 'miller', 'driven', 'eight', 'exchange', 'fu', 'structure', 'mountain', 'united', 'moore', 'lawrence', 'catherine', 'kelly', 'fame', 'round', 'schwarzenegger', 'source', 'directly', 'arrive', 'separate', 'available', 'cinematographer', 'relatively', 'strip', 'ted', 'phantom', 'thousand', 'likable', 'london', 'veteran', 'badly', 'laughable', 'skin', 'storm', 'establish', 'yeah', 'community', 'cowboy', 'overly', 'quiet', 'south', 'program', 'sky', 'elaborate', 'international', 'radio', 'todd', 'existence', 'survivor', 'exercise', 'interview', 'cheesy', 'ahead', 'larry', 'location', 'sick', 'highlight', 'trash', 'kung', 'japanese', 'warn', 'ugly', 'france', 'degree', 'department', 'loser', 'bag', 'prince', 'bloody', 'shrek', 'sidekick', 'screw', 'size', 'funniest', 'copy', 'mainly', 'knowledge', '6', 'dare', 'joy', 'remove', 'sub', 'explanation', 'blockbuster', 'shift', 'thoroughly', 'pretend', 'lucky', 'cheat', 'thankfully', 'thief', 'outstanding', 'load', 'kidnap', 'china', 'dragon', 'hollow', 'religious', 'theatre', 'ill', 'grown', 'african', 'thirty', 'pass', 'block', 'cliched', 'harris', 'eve', 'historical', 'friendship', 'wake', 'assistant', 'twin', 'slapstick', 'spy', 'ripley', 'beloved', 'factor', 'jonathan', 'earn', 'wing', 'grade', 'drunken', 'traditional', 'celebrity', 'frequently', '100', 'luck', 'chief', 'creative', 'guilty', 'complicate', 'jail', 'heavily', 'positive', 'aware', 'paris', 'nudity', 'serf', 'terror', 'barry', 'stiller', 'disappointed', '60', 'everybody', 'spin', 'object', 'replace', 'clue', 'flesh', 'football', 'recall', 'f', 'hearted', 'favor', 'extend', 'shout', 'greg', 'empty', 'loose', 'insight', 'operation', 'theory', 'capable', 'anna', 'commercial', 'clooney', 'western', 'paint', 'desperately', 'honor', 'oliver', 'mom', 'sorry', 'morning', 'express', 'ring', 'eccentric', 'author', 'texas', 'sidney', 'area', 'afraid', 'painful', 'damon', 'spark', 'circumstance', 'eric', 'gotten', 'wrap', 'jaw', 'largely', 'doom', 'arrives', 'mediocre', '2001', 'expression', 'justice', 'exact', 'significant', 'luke', 'hook', 'bet', 'influence', 'authority', 'tend', 'jackal', 'mouse', 'statement', 'dry', 'market', 'tense', 'quaid', 'dinner', 'williamson', 'andrew', 'heroine', 'hoffman', 'stag', 'scorsese', 'irritate', 'bullet', 'german', 'wealthy', 'threat', 'paper', 'pitt', 'ticket', 'cat', 'remarkable', 'lonely', 'tradition', 'kim', 'leg', 'youth', 'lewis', 'freeman', 'shine', 'compelling', 'safe', 'rid', 'crisis', 'karen', 'pie', 'originally', 'mob', 'held', 'bang', 'church', 'wilson', 'unlikely', 'intention', 'mental', 'drunk', '0', 'notion', 'expert', 'technique', 'argue', 'skip', 'graham', 'pig', 'neil', 'halloween', 'ellie', 'critique', 'jon', 'hip', 'endless', 'obligatory', 'reminiscent', 'interaction', 'obsess', 'unexpected', 'glass', 'freedom', 'naturally', 'genuinely', 'connor', 'walter', 'fifteen', 'sonny', 'guest', 'whale', 'spoiler', 'shape', 'ordinary', '12', 'agrees', 'refer', 'reward', 'condition', 'fifth', 'river', 'adapt', 'national', 'ignore', 'dean', 'hide', 'belief', 'slip', 'andy', 'armageddon', 'cole', 'ethan', 'psychological', 'keanu', 'meg', 'fool', 'terribly', 'crow', 'chuckle', 'investigation', 'synopsis', 'voiced', 'romeo', 'roommate', 'lucy', 'occasional', 'creation', 'protect', 'perspective', 'method', 'reese', 'campaign', 'trilogy', 'unbelievable', 'sitcom', 'collection', 'pregnant', 'inevitable', 'nonetheless', 'fugitive', 'sum', 'keaton', '1996', 'execute', 'shop', 'hey', 'prime', 'christian', 'terry', 'met', 'melvin', 'rap', 'spoil', '17', 'breast', 'status', 'extraordinary', 'terminator', 'photography', 'logic', 'accidentally', 'porn', 'courtroom', '54', 'lake', 'delight', 'theatrical', 'commentary', 'tree', 'solve', 'practically', 'mask', 'critical', 'unnecessary', 'toss', 'shark', 'ensemble', 'achievement', 'stranger', 'sandra', 'owen', 'cell', 'suspenseful', 'chain', 'weight', '2000', 'described', 'drew', 'posse', 'colorful', 'deadly', 'magazine', 'narration', 'serial', 'v', '1995', 'chill', 'employ', 'terrify', 'corner', 'explains', 'weekend', 'switch', 'yell', 'davis', 'donnell', 'england', 'gorilla', 'accompany', 'nine', 'pile', 'concerned', 'ideal', 'chicago', 'possibility', 'installment', 'trio', 'ocean', 'intensity', 'equal', 'horizon', 'uninteresting', 'quirky', 'frankly', 'foreign', 'sends', 'balance', 'string', 'palma', 'successfully', 'robocop', 'bobby', 'confrontation', 'citizen', 'hughes', 'nevertheless', 'wound', 'pleasant', 'sudden', 'painfully', 'necessarily', 'airplane', 'speaks', 'sixth', 'surely', 'beautifully', 'bride', 'overcome', 'promising', 'closer', 'snipe', 'basketball', 'li', 'coach', 'reporter', 'rocky', 'abuse', 'predecessor', 'cauldron', 'pose', 'portray', 'mature', 'politics', 'loss', 'maintain', 'murray', 'proceeding', 'darkness', 'unfortunate', 'bastard', 'troubled', 'childhood', 'multiple', 'oddly', 'affect', 'originality', 'executive', 'lesson', 'restaurant', 'joel', 'soap', 'combination', 'seth', 'connect', 'capsule', 'semi', 'besson', 'brutal', 'excitement', 'tour', 'advice', 'measure', 'ala', 'delightful', 'jar', 'flubber', 'behavior', 'alice', 'dicaprio', 'sat', 'knight', 'p', 'metal', 'glimpse', 'disgust', 'goodman', 'n', 'creator', 'albeit', 'tragic', 'diamond', 'irish', 'float', 'research', 'provoke', 'associate', 'psycho', 'mid', 'inventive', 'cost', 'norton', 'unknown', 'nuclear', 'flow', 'passion', 'parker', 'mirror', 'choose', 'fortune', 'jeffrey', 'cheer', 'attraction', 'revolves', 'bitter', 'lisa', 'saturday', 'tucker', 'intellectual', 'barrymore', 'tribe', 'nicholson', 'likeable', 'essentially', 'pacino', 'forest', 'treatment', 'erotic', 'preview', 'spoof', 'francis', 'conventional', 'frustrate', 'generic', 'absurd', 'network', 'nazi', 'rely', 'destination', 'own', 'deeply', 'paid', 'gonna', 'dialog', 'finger', 'initially', 'benefit', 'advance', 'universe', 'foster', 'phil', 'howard', 'anger', 'cable', 'subtlety', 'lovely', 'depress', 'persona', 'repeat', 'beating', 'leap', 'stalk', 'climactic', 'letter', 'experiment', 'whenever', 'trial', 'halfway', 'convict', 'fairy', 'kenneth', 'torture', 'priest', 'subplots', 'suffers', 'basis', 'mainstream', 'midnight', 'disco', 'unable', 'finn', 'truck', 'specific', 'reveals', 'bird', 'mtv', 'amy', 'besides', 'trade', 'storytelling', 'lloyd', 'countless', 'psychotic', 'par', 'proof', 'setup', 'brad', 'unusual', 'maggie', 'cox', 'notch', 'claire', 'labor', 'importantly', 'sarah', 'pre', 'jet', 'worry', 'wes', 'category', 'divorce', 'wahlberg', 'handful', 'directorial', 'sympathy', 'michelle', 'occasion', 'identify', 'dirty', 'sword', 'parallel', 'independence', 'inept', 'aforementioned', 'assault', 'baker', 'lebowski', 'warner', 'disbelief', 'circle', 'digital', 'festival', 'initial', 'destroyed', 'blown', 'hood', 'introduces', 'awkward', 'utter', 'disguise', 'eyed', 'bacon', 'admire', 'report', 'silver', '1994', 'reflect', 'link', 'packed', 'stir', 'blank', 'tight', 'quentin', 'cuba', 'artistic', 'cgi', 'related', 'redeem', 'spoken', 'lift', 'negative', 'deeper', 'criticism', 'penn', 'editor', 'costner', 'host', 'tape', 'pet', 'soft', 'laura', 'brilliantly', 'depp', 'antz', 'training', 'niro', 'effectively', 'hearing', 'guide', 'suggests', 'gorgeous', 'broderick', 'principal', 'ian', 'argument', 'mine', 'boxing', 'ron', 'sinise', 'arrest', 'develops', 'arthur', 'blonde', 'grab', 'relate', 'sheriff', 'mass', 'charisma', 'dealer', 'flight', 'anaconda', 'anybody', 'venture', 'obsession', 'sole', 'perfection', 'puzzle', 'contemporary', 'distance', 'holiday', 'jordan', 'carrie', 'sir', 'laughter', 'millionaire', 'bleak', 'forth', 'trite', 'attend', 'butt', 'duvall', 'wrestling', 'porter', 'scenery', 'wannabe', 'wire', 'response', 'prior', 'birth', 'nation', 'damage', 'dick', 'universal', 'strain', 'boast', 'hack', 'improve', 'wong', 'turkey', 'iron', 'dan', 'castle', 'homage', 'entry', 'mail', 'meyer', 'increase', 'susan', 'slap', 'praise', 'mafia', 'echo', 'rape', 'out', 'depict', 'craven', 'sneak', 'primary', 'nose', 'revelation', 'johnson', 'esque', 'obnoxious', 'stewart', 'whatsoever', 'fortunately', 'notable', 'independent', 'invite', 'crystal', 'endear', 'multi', 'outrageous', 'ironic', 'eerie', 'gene', 'watson', 'roth', 'tiny', 'disappear', 'makeup', 'boil', 'pitch', 'function', 'wreck', 'hackman', 'buzz', 'kudrow', 'bowfinger', 'shower', 'spell', 'sake', 'ann', 'rank', 'odds', 'blind', 'quote', 'discovery', 'jake', 'emperor', 'religion', 'border', 'randy', 'incident', 'sun', '40', 'garbage', 'gabriel', 'offering', 'prevent', 'village', 'stanley', 'hitchcock', 'anywhere', 'stereotypical', 'newcomer', 'motif', 'underground', 'virtual', 'clueless', 'defense', 'craze', 'pen', 'wander', 'surreal', 'refresh', 'amanda', 'natasha', 'pack', 'native', 'accuse', 'attract', 'gory', 'satan', 'shoulder', 'clothes', 'flashy', 'mitchell', 'caricature', 'albert', 'harrelson', 'session', 'mamet', 'felix', 'heat', 'friendly', 'heather', 'jurassic', 'frankenstein', 'neo', 'italian', 'gordon', 'betty', 'ross', 'musketeer', 'vacation', 'leo', 'franchise', 'shirt', 'portrays', 'enhance', 'freak', 'convention', 'idiot', 'delivery', 'com', 'account', 'exists', 'merit', 'clone', 'demonstrate', 'flawless', 'fighter', 'north', 'dinosaur', 'spacey', 'narrator', 'expose', 'transport', 'carl', 'strangely', 'invisible', 'k', 'ancient', 'manager', 'gut', 'idiotic', 'bathroom', 'specifically', '\\x12', 'gratuitous', 'downright', 'motivation', 'ace', 'golden', 'confront', 'oppose', 'horrify', 'acclaim', 'werewolf', 'hostage', 'lou', 'designer', 'addict', 'rick', 'marie', 'martha', 'timing', 'loyal', 'molly', 'peak', 'predict', 'mixed', 'resort', 'emma', 'alicia', 'lion', 'paltrow', 'inner', 'beatty', 'spring', 'define', 'needle', 'lone', 'secretly', 'execution', 'philosophy', 'pun', 'page', 'jamie', 'smoking', 'gamble', 'robbery', 'false', 'thompson', 'official', 'section', 'meat', 'prinze', 'mildly', 'profanity', 'dread', 'collect', 'freeze', 'assign', 'respectively', 'convey', 'arquette', 'stab', 'primarily', 'charismatic', 'supply', 'sens', 'crush', 'endure', 'hitman', 'lip', 'lay', 'lethal', 'remotely', 'alter', 'environment', 'prostitute', 'griffith', 'margaret', 'ear', 'astonish', 'ensues', 'pat', 'imagery', 'energetic', 'vicious', 'carlito', 'burst', 'magical', 'cousin', 'notably', '_the', 'comfort', 'detailed', 'innocence', 'occurs', 'concentrate', 'toilet', 'donald', 'sutherland', 'practice', 'scenario', 'broad', 'fix', 'drinking', 'credible', 'hype', 'gere', 'await', 'artificial', 'grip', 'spending', 'infamous', 'showgirl', 'upper', 'morgan', 'quinn', 'harrison', 'admittedly', 'luckily', 'murderer', 'consistently', 'brand', 'nail', 'squad', 'assure', 'drink', 'wolf', 'tedious', 'nervous', 'malcolm', 'demon', 'directs', 'companion', 'till', 'crawford', 'ambition', 'insurrection', 'stylish', 'relies', 'per', 'captivate', 'mere', 'ricci', 'smash', 'ali', 'glance', 'variety', 'happiness', 'affection', 'mighty', 'smoke', 'thank', 'banderas', 'breath', 'manipulative', 'indian', 'jesus', 'fatal', 'fred', 'breathtaking', 'rico', 'rachel', 'advocate', 'judd', 'ho', 'beverly', 'eastwood', 'linda', 'bay', 'chair', 'spiritual', 'correct', 'proper', 'exploit', 'advantage', 'upset', 'arrival', 'antic', 'horribly', 'pool', 'instantly', 'graduate', 'silence', 'legendary', 'lifeless', 'webb', 'channel', 'glad', 'token', 'east', 'phrase', 'philip', 'urge', 'realism', 'experienced', 'civil', 'southern', 'california', 'accord', 'brenner', 'nelson', 'gas', 'gradually', 'appropriately', 'corny', 'shut', 'donnie', 'portion', 'happily', 'pam', 'portrait', 'remarkably', 'picked', 'update', 'franklin', 'altogether', 'torn', 'alec', 'zeta', 'bottle', 'sink', 'tyler', 'connery', 'complain', 'sentimental', 'wooden', 'buscemi', 'jolie', 'march', 'bury', 'greatly', 'passenger', 'medical', 'mercury', 'branagh', 'carol', 'nonsense', 'coincidence', 'print', 'dig', 'cave', 'coat', 'handsome', 'triumph', 'reply', 'carefully', 'internet', 'neeson', 'em', 'ant', 'investigator', 'teeth', 'kilmer', 'nurse', 'runner', 'poignant', 'asian', '1993', 'blake', 'martian', 'sacrifice', 'ludicrous', 'expensive', 'baseball', 'insert', 'tongue', 'wash', 'cia', 'devote', 'consists', 'sweetback', 'reputation', 'coffee', 'anymore', 'destine', 'vince', 'oil', 'hurricane', 'blend', 'wallace', 'sin', 'cindy', 'thurman', 'dazzle', 'birthday', 'stahl', 'sloppy', 'shake', 'acceptable', 'marc', 'oldman', 'painting', 'nominate', 'pan', 'quarter', 'ambitious', 'trend', 'cruel', 'africa', 'launch', 'hammer', 'chamber', 'firm', 'joseph', 'goldblum', 'treasure', 'gal', 'recycle', 'raider', 'bullock', 'mermaid', 'explode', 'league', 'wacky', 'defeat', 'election', 'jessica', 'ton', '18', 'discuss', 'empire', 'ebert', 'wan', 'uninspired', 'gadget', 'guilt', 'stupidity', 'mickey', 'assassin', 'theron', 'poke', 'shane', 'corrupt', 'braveheart', 'san', 'candy', 'gem', 'mindless', 'render', 'fancy', 'payback', 'site', 'kinda', 'voight', 'split', 'presumably', 'nicholas', 'claude', 'repetitive', 'marketing', 'controversial', 'bite', 'territory', 'enjoyment', 'neve', 'campy', 'possess', 'currently', 'mild', 'increasingly', 'distant', 'christ', 'tall', 'conviction', 'tag', 'chose', 'absolute', 'jan', 'magoo', 'rage', 'personally', 'recruit', 'highway', 'suspicious', 'butcher', 'krippendorf', 'awesome', 'october', 'forty', 'trace', 'godfather', 'assemble', 'bust', 'helm', 'resemble', 'complaint', 'strongly', 'sinister', 'paxton', 'duke', 'uncomfortable', 'metro', 'offend', 'sheen', 'everywhere', 'hewitt', 'layer', 'pod', 'bully', 'edition', 'peace', 'snow', 'activity', 'galaxy', 'definite', 'limit', 'embrace', 'josh', 'cooper', 'shall', 'ha', 'potentially', 'drown', 'lock', 'swim', 'boot', 'variation', 'los', 'angeles', 'wisdom', 'chooses', 'harsh', 'discussion', 'thug', 'jerk', 'consequence', 'holy', 'kubrick', 'data', 'tackle', 'hiding', 'rebel', 'mansion', 'blond', 'massive', 'conceive', 'casino', 'stale', 'insane']\n"
     ]
    }
   ],
   "source": [
    "print(features)"
   ]
  },
  {
   "cell_type": "code",
   "execution_count": 19,
   "metadata": {},
   "outputs": [],
   "source": [
    "def get_feature_dict(words):\n",
    "    current_feature = {}\n",
    "    words_set = set(words)\n",
    "    for w in features:\n",
    "        current_feature[w] = w in words_set\n",
    "    return current_feature"
   ]
  },
  {
   "cell_type": "code",
   "execution_count": 21,
   "metadata": {},
   "outputs": [],
   "source": [
    "training_data = [(get_feature_dict(doc),category) for doc, category in training_documents]\n",
    "testing_data = [(get_feature_dict(doc),category) for doc, category in testing_documents]"
   ]
  },
  {
   "cell_type": "code",
   "execution_count": 24,
   "metadata": {},
   "outputs": [],
   "source": [
    "classifier = NaiveBayesClassifier.train(training_data)"
   ]
  },
  {
   "cell_type": "code",
   "execution_count": 29,
   "metadata": {},
   "outputs": [
    {
     "data": {
      "text/plain": [
       "0.818"
      ]
     },
     "execution_count": 29,
     "metadata": {},
     "output_type": "execute_result"
    }
   ],
   "source": [
    "nltk.classify.accuracy(classifier, testing_data)"
   ]
  },
  {
   "cell_type": "code",
   "execution_count": 30,
   "metadata": {},
   "outputs": [
    {
     "name": "stdout",
     "output_type": "stream",
     "text": [
      "Most Informative Features\n",
      "                   inept = True              neg : pos    =     10.2 : 1.0\n",
      "               stupidity = True              neg : pos    =     10.2 : 1.0\n",
      "                   anger = True              pos : neg    =      9.8 : 1.0\n",
      "             outstanding = True              pos : neg    =      9.7 : 1.0\n",
      "                  seagal = True              neg : pos    =      9.3 : 1.0\n",
      "               painfully = True              neg : pos    =      8.9 : 1.0\n",
      "                   damon = True              pos : neg    =      8.3 : 1.0\n",
      "               ludicrous = True              neg : pos    =      8.2 : 1.0\n",
      "                 idiotic = True              neg : pos    =      7.9 : 1.0\n",
      "             beautifully = True              pos : neg    =      7.6 : 1.0\n",
      "                flawless = True              pos : neg    =      7.6 : 1.0\n",
      "                 destine = True              pos : neg    =      7.3 : 1.0\n",
      "                  martha = True              neg : pos    =      7.3 : 1.0\n",
      "                   mulan = True              pos : neg    =      6.7 : 1.0\n",
      "             wonderfully = True              pos : neg    =      6.6 : 1.0\n"
     ]
    }
   ],
   "source": [
    "classifier.show_most_informative_features(15)"
   ]
  },
  {
   "cell_type": "code",
   "execution_count": null,
   "metadata": {},
   "outputs": [],
   "source": []
  }
 ],
 "metadata": {
  "kernelspec": {
   "display_name": "Python 3",
   "language": "python",
   "name": "python3"
  },
  "language_info": {
   "codemirror_mode": {
    "name": "ipython",
    "version": 3
   },
   "file_extension": ".py",
   "mimetype": "text/x-python",
   "name": "python",
   "nbconvert_exporter": "python",
   "pygments_lexer": "ipython3",
   "version": "3.7.3"
  }
 },
 "nbformat": 4,
 "nbformat_minor": 2
}
